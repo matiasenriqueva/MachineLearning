{
  "nbformat": 4,
  "nbformat_minor": 0,
  "metadata": {
    "colab": {
      "name": "Actividad corta S3.ipynb",
      "provenance": [],
      "collapsed_sections": [],
      "authorship_tag": "ABX9TyOuozplqpgdNE4GRg2hiTZT",
      "include_colab_link": true
    },
    "kernelspec": {
      "name": "python3",
      "display_name": "Python 3"
    },
    "language_info": {
      "name": "python"
    }
  },
  "cells": [
    {
      "cell_type": "markdown",
      "metadata": {
        "id": "view-in-github",
        "colab_type": "text"
      },
      "source": [
        "<a href=\"https://colab.research.google.com/github/matiasenriqueva/MachineLearning/blob/main/Actividad_corta_S3.ipynb\" target=\"_parent\"><img src=\"https://colab.research.google.com/assets/colab-badge.svg\" alt=\"Open In Colab\"/></a>"
      ]
    },
    {
      "cell_type": "markdown",
      "source": [
        "**Actividad corta**"
      ],
      "metadata": {
        "id": "VOan7qevsZ14"
      }
    },
    {
      "cell_type": "markdown",
      "source": [
        "Si 2 boletos de adulto y 1 boleto de niño cuestan \\$ 32, y si 1 boleto de adulto y 3 boletos de niño cuestan \\$ 36, ¿cuál es el precio de cada uno?"
      ],
      "metadata": {
        "id": "I60A7T4Ir9JL"
      }
    },
    {
      "cell_type": "markdown",
      "source": [
        "**Resolución**\n",
        "Del enunciado se pueden rescatar dos ecuaciones\n",
        "\n",
        "\n",
        "1.   2 boletos de adulto y 1 boleto de niño cuestan \\$32\n",
        "2.   1 boleto de adulto y 3 boletos de niño cuestan \\$36\n",
        "\n",
        "(1) se puede traducir como:\n",
        "$2a + n = 32$\n",
        "\n",
        "(2) se puede traducir como: $a + 3n = 36$\n",
        "\n",
        "Si multiplicamos (2) * 2 nos queda y denominaremos como (2.1):\n",
        "\n",
        "(2.1) \n",
        "\n",
        "> $2a + 6n = 72$\n",
        "\n",
        "\n",
        "\n",
        "Siendo $a$ el valor del boleto adulto y $n$ el valor del boleto de niño.\n",
        "\n",
        "Restamos (2.1) a (1):\n",
        "\n",
        "\n",
        "\n",
        "> ($2a + 1n = 32$)\n",
        "\n",
        "\n",
        "> -($2a + 6n = 72$)\n",
        "\n",
        "Quedando:\n",
        "\n",
        "> $-5n = -40$\n",
        "\n",
        "Depejamos $n$:\n",
        "\n",
        "> $n = 8$\n",
        "\n",
        "\n",
        "  \n",
        "Sabemos que los boletos de los niños cuestan \\$8.\n",
        "\n",
        "Ahora reemplazamos el valor de los boletos de los niños en cualquier ecuación del principio y despejamos $a$ para obtener el valor del ticket de adulto.\n",
        "\n",
        "> $2a + n = 32$\n",
        "\n",
        "> $2a + 8 = 32$\n",
        "\n",
        "> $2a = 24$\n",
        "\n",
        "> $a = 12$\n",
        "\n",
        "Con esto sabemos entonces:\n",
        "\n",
        "* El boleto de adulto cuesta \\$12\n",
        "* El boleto de niño cuesta \\$8\n",
        "\n",
        "\n",
        "\n",
        "\n",
        "\n"
      ],
      "metadata": {
        "id": "Bxt1Q6ocsrV4"
      }
    },
    {
      "cell_type": "markdown",
      "source": [
        "**Resolución en código**"
      ],
      "metadata": {
        "id": "ltj0AwimyKc3"
      }
    },
    {
      "cell_type": "code",
      "execution_count": 4,
      "metadata": {
        "id": "qF6HaVF6qAU0"
      },
      "outputs": [],
      "source": [
        "import numpy as np\n",
        "import matplotlib.pyplot as plt"
      ]
    },
    {
      "cell_type": "markdown",
      "source": [
        "Para poder graficar ambas rectas en un plano con los datos dados necesitamos establecer un variable dependiente y otra independiente, en nuestro caso realmente ninguna depende de la otra, pero para efectos de grafico haremos que el precio de los tickets de adulto sean nuestra variable independiente y los tickets de adulto sean nuestra variable dependiente."
      ],
      "metadata": {
        "id": "I-w-eRMByU-U"
      }
    },
    {
      "cell_type": "markdown",
      "source": [
        "Reescribiendo las ecuaciones nos quedan las siguientes rectas.\n",
        "\n",
        "* $n = 32 -2a$ \n",
        "* $n = \\frac{36}{3} - \\frac{a}{3}  ⇒ n = 12 - \\frac{a}{3}$"
      ],
      "metadata": {
        "id": "q8yInArf1PHM"
      }
    },
    {
      "cell_type": "code",
      "source": [
        "a = np.linspace(0, 40, 1000)"
      ],
      "metadata": {
        "id": "D6X_p5YprZSZ"
      },
      "execution_count": 5,
      "outputs": []
    },
    {
      "cell_type": "markdown",
      "source": [
        "Ecuación 1:$\\quad$ $n = 32 -2a$"
      ],
      "metadata": {
        "id": "r4sGcYNV24dA"
      }
    },
    {
      "cell_type": "code",
      "source": [
        "n_1 = 32 - 2*a"
      ],
      "metadata": {
        "id": "otZz11Oq26_Y"
      },
      "execution_count": 6,
      "outputs": []
    },
    {
      "cell_type": "markdown",
      "source": [
        "Ecuación 2:$\\quad$  $n = 12 - \\frac{a}{3}$"
      ],
      "metadata": {
        "id": "dTtwC1P43FaH"
      }
    },
    {
      "cell_type": "code",
      "source": [
        "n_2 = 12 - (a/3)"
      ],
      "metadata": {
        "id": "RJZOpiiE3N1B"
      },
      "execution_count": 7,
      "outputs": []
    },
    {
      "cell_type": "code",
      "source": [
        "fig, ax = plt.subplots()\n",
        "plt.title('Precio de los tickets de niño en base a los ticket de adulto')\n",
        "plt.xlabel('Precio ticket adulto')\n",
        "plt.ylabel('Precio ticket niño')\n",
        "ax.set_xlim([0, 21])\n",
        "ax.set_ylim([0, 15])\n",
        "ax.plot(a, n_1, c='green')\n",
        "ax.plot(a, n_2, c='brown')\n",
        "plt.axvline(x=12, color='purple', linestyle='--')\n",
        "_ = plt.axhline(y=8, color='purple', linestyle='--')"
      ],
      "metadata": {
        "colab": {
          "base_uri": "https://localhost:8080/",
          "height": 295
        },
        "id": "blFAtsGa3qBr",
        "outputId": "63044143-a4fd-421f-888b-0be9360eb7a3"
      },
      "execution_count": 11,
      "outputs": [
        {
          "output_type": "display_data",
          "data": {
            "text/plain": [
              "<Figure size 432x288 with 1 Axes>"
            ],
            "image/png": "[encoded data removed]"
          },
          "metadata": {
            "needs_background": "light"
          }
        }
      ]
    },
    {
      "cell_type": "markdown",
      "source": [
        "En el gráfico se logra apreciar que las rectas se cruzan en las coordenadas $(x,y):(12,8)$, que corresponden a los valores obtenidos en la resolución del sistema de ecuaciones."
      ],
      "metadata": {
        "id": "cwDnRZpW5Fpy"
      }
    }
  ]
}